{
 "cells": [
  {
   "cell_type": "code",
   "execution_count": 1,
   "metadata": {},
   "outputs": [],
   "source": [
    "from bs4 import BeautifulSoup\n",
    "import requests"
   ]
  },
  {
   "cell_type": "code",
   "execution_count": 2,
   "metadata": {},
   "outputs": [],
   "source": [
    "url = 'https://infinitediscs.com/discraft-buzzz'\n",
    "\n",
    "page = requests.get(url)\n",
    "\n",
    "soup = BeautifulSoup(page.text, 'html')"
   ]
  },
  {
   "cell_type": "code",
   "execution_count": 3,
   "metadata": {},
   "outputs": [
    {
     "name": "stdout",
     "output_type": "stream",
     "text": [
      "<!DOCTYPE html>\n",
      "\n",
      "<html lang=\"en\" xmlns=\"http://www.w3.org/1999/xhtml\">\n",
      "<head>\n",
      "<link href=\"https://cdn.sucuri.net/sucuri-firewall-block.css\" rel=\"stylesheet\"/>\n",
      "<section class=\"center clearfix\">\n",
      "<meta content=\"width=device-width, initial-scale=1.0\" name=\"viewport\"/>\n",
      "<title>Sucuri WebSite Firewall - Access Denied</title>\n",
      "<link href=\"https://fonts.googleapis.com/css?family=Open+Sans:400,300,600,700\" rel=\"stylesheet\" type=\"text/css\"/>\n",
      "</section></head>\n",
      "<body>\n",
      "<div id=\"main-container\">\n",
      "<header class=\"app-header clearfix\">\n",
      "<div class=\"wrap\">\n",
      "<a class=\"logo\" href=\"https://www.sucuri.net/?utm_source=firewall_block\"></a>\n",
      "<span class=\"logo-neartext\">Website Firewall</span>\n",
      "<a class=\"site-link\" href=\"https://sucuri.net/?utm_source=firewall_block\">Back to sucuri.net</a>\n",
      "</div>\n",
      "</header>\n",
      "<section class=\"app-content access-denied clearfix\"><div class=\"box center width-max-940\"><h1 class=\"brand-font font-size-xtra no-margin\"><i class=\"icon-circle-red\"></i>Access Denied - Sucuri Website Firewall</h1>\n",
      "<p class=\"medium-text code-snippet\">If you are the site owner (or you manage this site), please whitelist your IP or if you think this block is an error please <a class=\"color-green underline\" href=\"https://support.sucuri.net/?utm_source=firewall_block\">open a support ticket</a> and make sure to include the block details (displayed in the box below), so we can assist you in troubleshooting the issue. </p><h2>Block details:\n",
      "<table class=\"property-table overflow-break-all line-height-16\">\n",
      "<tr>\n",
      "<td>Your IP:</td>\n",
      "<td><span>81.191.193.170</span></td>\n",
      "</tr>\n",
      "<tr><td>URL:</td>\n",
      "<td><span>infinitediscs.com/discraft-buzzz</span></td>\n",
      "</tr>\n",
      "<tr>\n",
      "<td>Your Browser: </td>\n",
      "<td><span>python-requests/2.31.0</span></td>\n",
      "</tr>\n",
      "<tr><td>Block ID:</td>\n",
      "<td><span>BNP005</span></td>\n",
      "</tr>\n",
      "<tr>\n",
      "<td>Block reason:</td>\n",
      "<td><span>Bad bot access attempt.</span></td>\n",
      "</tr>\n",
      "<tr>\n",
      "<td>Time:</td>\n",
      "<td><span>2025-07-16 06:45:38</span></td>\n",
      "</tr>\n",
      "<tr>\n",
      "<td>Server ID:</td>\n",
      "<td><span>19002</span></td></tr>\n",
      "</table>\n",
      "</h2></div>\n",
      "</section>\n",
      "<footer>\n",
      "<span>© 2025 Sucuri Inc. All rights reserved.</span>\n",
      "<span id=\"privacy-policy\"><a href=\"https://sucuri.net/privacy-policy?utm_source=firewall_block\" rel=\"nofollow noopener\" target=\"_blank\">Privacy</a></span>\n",
      "</footer>\n",
      "</div>\n",
      "</body>\n",
      "</html>\n",
      "\n"
     ]
    }
   ],
   "source": [
    "print(soup)"
   ]
  },
  {
   "cell_type": "code",
   "execution_count": null,
   "metadata": {},
   "outputs": [],
   "source": []
  }
 ],
 "metadata": {
  "kernelspec": {
   "display_name": "Python 3",
   "language": "python",
   "name": "python3"
  },
  "language_info": {
   "codemirror_mode": {
    "name": "ipython",
    "version": 3
   },
   "file_extension": ".py",
   "mimetype": "text/x-python",
   "name": "python",
   "nbconvert_exporter": "python",
   "pygments_lexer": "ipython3",
   "version": "3.10.6"
  }
 },
 "nbformat": 4,
 "nbformat_minor": 2
}
